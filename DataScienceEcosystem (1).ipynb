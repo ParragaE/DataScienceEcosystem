{
 "cells": [
  {
   "cell_type": "markdown",
   "id": "760a4861-7046-4d7a-878f-fa6553379c02",
   "metadata": {},
   "source": [
    "# Data Science Tools and Ecosystem"
   ]
  },
  {
   "cell_type": "markdown",
   "id": "a2c97ff7-44f1-4c19-8c56-6ad2ba3d95f8",
   "metadata": {},
   "source": [
    "En este cuaderno, se resumen las herramientas y ecosistemas de ciencia de datos."
   ]
  },
  {
   "cell_type": "markdown",
   "id": "64aa8743-e5a8-48b9-8d01-1fa9bd48d77e",
   "metadata": {},
   "source": [
    "Algunos de los lenguajes populares que utilizan los científicos de datos son:\n",
    "1. Python\n",
    "2. R\n",
    "3. SQL\n",
    "4. Julia"
   ]
  },
  {
   "cell_type": "markdown",
   "id": "2a538caa-c3c5-401b-a756-e127b2107094",
   "metadata": {},
   "source": [
    "Algunas de las bibliotecas comúnmente utilizadas por los científicos de datos incluyen:\n",
    "1. Pandas\n",
    "2. NumPy\n",
    "3. Scikit-learn\n",
    "4. TensorFlow\n",
    "5. Matplotlib"
   ]
  },
  {
   "cell_type": "markdown",
   "id": "9774ffbb-59d1-4b9b-b4ff-a32ef9bcc800",
   "metadata": {},
   "source": [
    "| Herramientas de Ciencia de Datos |\n",
    "|----------------------------------|\n",
    "| Jupyter Notebooks               |\n",
    "| RStudio                         |\n",
    "| Apache Spark                    |\n",
    "| VS Code                         |"
   ]
  },
  {
   "cell_type": "markdown",
   "id": "bb8b561b-c60d-4e67-ae00-f1cfd1b0f427",
   "metadata": {},
   "source": [
    "### A continuación, se presentan algunos ejemplos de evaluación de expresiones aritméticas en Python."
   ]
  },
  {
   "cell_type": "code",
   "execution_count": 1,
   "id": "e78996ce-438e-4d5f-b9bf-017a8ef4b1e5",
   "metadata": {},
   "outputs": [
    {
     "data": {
      "text/html": [
       "17"
      ],
      "text/latex": [
       "17"
      ],
      "text/markdown": [
       "17"
      ],
      "text/plain": [
       "[1] 17"
      ]
     },
     "metadata": {},
     "output_type": "display_data"
    }
   ],
   "source": [
    "# Esta es una expresión aritmética simple para multiplicar y luego sumar enteros\n",
    "(3*4)+5"
   ]
  },
  {
   "cell_type": "code",
   "execution_count": 2,
   "id": "838493f5-dc62-4af0-8dc4-c38ce2cceb3f",
   "metadata": {},
   "outputs": [
    {
     "data": {
      "text/html": [
       "3.33333333333333"
      ],
      "text/latex": [
       "3.33333333333333"
      ],
      "text/markdown": [
       "3.33333333333333"
      ],
      "text/plain": [
       "[1] 3.333333"
      ]
     },
     "metadata": {},
     "output_type": "display_data"
    }
   ],
   "source": [
    "# Esto convertirá 200 minutos a horas dividiendo por 60\n",
    "200 / 60"
   ]
  },
  {
   "cell_type": "markdown",
   "id": "4f0b8026-22f9-4c07-b51d-cb5f3ab8fe1c",
   "metadata": {},
   "source": [
    "**Objetivos:**\n",
    "- Listar lenguajes populares para Ciencia de Datos\n",
    "- Identificar bibliotecas comunes utilizadas en Ciencia de Datos\n",
    "- Mostrar herramientas del ecosistema de Ciencia de Datos\n",
    "- Demostrar ejemplos de operaciones aritméticas en Python\n",
    "- Introducir el uso de Jupyter Notebooks"
   ]
  },
  {
   "cell_type": "markdown",
   "id": "55a0d52e-c382-4473-a431-5b1b83280883",
   "metadata": {},
   "source": [
    "## Autor\n",
    "Edixon"
   ]
  },
  {
   "cell_type": "code",
   "execution_count": null,
   "id": "1ff8402f-e005-4228-8c81-a74404e339cc",
   "metadata": {},
   "outputs": [],
   "source": []
  }
 ],
 "metadata": {
  "kernelspec": {
   "display_name": "R",
   "language": "R",
   "name": "ir"
  },
  "language_info": {
   "codemirror_mode": "r",
   "file_extension": ".r",
   "mimetype": "text/x-r-source",
   "name": "R",
   "pygments_lexer": "r",
   "version": "4.4.2"
  }
 },
 "nbformat": 4,
 "nbformat_minor": 5
}
